
        "### Estimation of transition-state energies\n",
        "\n",
        "A Brønsted-Evans-Polanyi (BEP) model is used to estimate the transition-state energies ($E_{\\mathrm{TS}}$) for reactions over Pt/Mo<sub>2</sub>N(111)."
      ],
      "metadata": {}
    },
    {
      "cell_type": "code",
      "source": [
        "import pandas as pd\n",
        "import numpy as np\n",
        "import matplotlib.pyplot as plt\n",
        "%matplotlib inline"
      ],
      "outputs": [],
      "execution_count": 1,
      "metadata": {
        "execution": {
          "iopub.execute_input": "2021-09-22T14:17:10.807Z",
          "iopub.status.busy": "2021-09-22T14:17:10.800Z",
          "iopub.status.idle": "2021-09-22T14:17:10.815Z",
          "shell.execute_reply": "2021-09-22T14:17:10.823Z"
        },
        "inputHidden": false,
        "outputHidden": false
      }
    },
    {
      "cell_type": "markdown",
      "source": [
        "Reference data for reaction steps within the reaction network of the ethanol reforming reaction is loaded.  The data was compiled from references [2] and [3]."
      ],
      "metadata": {}
    },
    {
      "cell_type": "code",
      "source": [
        "data = pd.read_csv(\"database-dft.csv\")\n",
        "data"
      ],
      "outputs": [
        {
          "output_type": "execute_result",
          "execution_count": 2,
          "data": {
            "text/html": "<div>\n<style scoped>\n    .dataframe tbody tr th:only-of-type {\n        vertical-align: middle;\n    }\n\n    .dataframe tbody tr th {\n        vertical-align: top;\n    }\n\n    .dataframe thead th {\n        text-align: right;\n    }\n</style>\n<table border=\"1\" class=\"dataframe\">\n  <thead>\n    <tr style=\"text-align: right;\">\n      <th></th>\n      <th>Surface</th>\n      <th>Reaction</th>\n      <th>Initial</th>\n      <th>Final</th>\n      <th>Er</th>\n      <th>Ea</th>\n      <th>E_TS</th>\n    </tr>\n  </thead>\n  <tbody>\n    <tr>\n      <th>0</th>\n      <td>Pt(111)</td>\n      <td>*CH3CH2O → *CH3 + *CH2O</td>\n      <td>0.5771</td>\n      <td>0.3991</td>\n      <td>-0.1780</td>\n      <td>2.2138</td>\n      <td>2.7909</td>\n    </tr>\n    <tr>\n      <th>1</th>\n      <td>Pt(111)</td>\n      <td>*CH3CHO → *CH3 + *CHO</td>\n      <td>0.6068</td>\n      <td>0.5283</td>\n      <td>-0.0784</td>\n      <td>1.3971</td>\n      <td>2.0038</td>\n    </tr>\n    <tr>\n      <th>2</th>\n      <td>Pt(111)</td>\n      <td>*CH2CH2O → *CH2 + *CH2O</td>\n      <td>0.9086</td>\n      <td>1.0147</td>\n      <td>0.1061</td>\n      <td>1.6521</td>\n      <td>2.5607</td>\n    </tr>\n    <tr>\n      <th>3</th>\n      <td>Pt(111)</td>\n      <td>*CH3CO → *CH3 + *CO</td>\n      <td>0.2367</td>\n      <td>-0.0195</td>\n      <td>-0.2562</td>\n      <td>1.7873</td>\n      <td>2.0240</td>\n    </tr>\n    <tr>\n      <th>4</th>\n      <td>Pt(111)</td>\n      <td>*CH2CHO → *CH2 + *CHO</td>\n      <td>0.9065</td>\n      <td>0.8928</td>\n      <td>-0.0137</td>\n      <td>1.3868</td>\n      <td>2.2932</td>\n    </tr>\n    <tr>\n      <th>...</th>\n      <td>...</td>\n      <td>...</td>\n      <td>...</td>\n      <td>...</td>\n      <td>...</td>\n      <td>...</td>\n      <td>...</td>\n    </tr>\n    <tr>\n      <th>96</th>\n      <td>Pd(111)</td>\n      <td>*CH2CHO → *CH2 + *CHO</td>\n      <td>1.4300</td>\n      <td>2.0500</td>\n      <td>0.6200</td>\n      <td>1.6300</td>\n      <td>3.0600</td>\n    </tr>\n    <tr>\n      <th>97</th>\n      <td>Pd(111)</td>\n      <td>*CHCH2O → *CHCH2 + *O</td>\n      <td>2.1800</td>\n      <td>2.1800</td>\n      <td>0.0000</td>\n      <td>1.0600</td>\n      <td>3.2400</td>\n    </tr>\n    <tr>\n      <th>98</th>\n      <td>Pd(111)</td>\n      <td>*CHCH2O → *CH + *CH2O</td>\n      <td>2.1900</td>\n      <td>1.8400</td>\n      <td>-0.3500</td>\n      <td>0.9200</td>\n      <td>3.1100</td>\n    </tr>\n    <tr>\n      <th>99</th>\n      <td>Pd(111)</td>\n      <td>*CH2CO → *CH2C + *O</td>\n      <td>1.5800</td>\n      <td>2.3700</td>\n      <td>0.7900</td>\n      <td>1.7700</td>\n      <td>3.3500</td>\n    </tr>\n    <tr>\n      <th>100</th>\n      <td>Pd(111)</td>\n      <td>*CH2CO → *CH2 + *CO</td>\n      <td>1.5800</td>\n      <td>1.0000</td>\n      <td>-0.5800</td>\n      <td>0.5200</td>\n      <td>2.1000</td>\n    </tr>\n  </tbody>\n</table>\n<p>101 rows × 7 columns</p>\n</div>",
            "text/plain": "     Surface                 Reaction  Initial   Final      Er      Ea    E_TS\n0    Pt(111)  *CH3CH2O → *CH3 + *CH2O   0.5771  0.3991 -0.1780  2.2138  2.7909\n1    Pt(111)    *CH3CHO → *CH3 + *CHO   0.6068  0.5283 -0.0784  1.3971  2.0038\n2    Pt(111)  *CH2CH2O → *CH2 + *CH2O   0.9086  1.0147  0.1061  1.6521  2.5607\n3    Pt(111)      *CH3CO → *CH3 + *CO   0.2367 -0.0195 -0.2562  1.7873  2.0240\n4    Pt(111)    *CH2CHO → *CH2 + *CHO   0.9065  0.8928 -0.0137  1.3868  2.2932\n..       ...                      ...      ...     ...     ...     ...     ...\n96   Pd(111)    *CH2CHO → *CH2 + *CHO   1.4300  2.0500  0.6200  1.6300  3.0600\n97   Pd(111)    *CHCH2O → *CHCH2 + *O   2.1800  2.1800  0.0000  1.0600  3.2400\n98   Pd(111)    *CHCH2O → *CH + *CH2O   2.1900  1.8400 -0.3500  0.9200  3.1100\n99   Pd(111)      *CH2CO → *CH2C + *O   1.5800  2.3700  0.7900  1.7700  3.3500\n100  Pd(111)      *CH2CO → *CH2 + *CO   1.5800  1.0000 -0.5800  0.5200  2.1000\n\n[101 rows x 7 columns]"
          },
          "metadata": {}
        }
      ],
      "execution_count": 2,
      "metadata": {
        "execution": {
          "iopub.execute_input": "2021-09-22T14:17:12.416Z",
          "iopub.status.busy": "2021-09-22T14:17:12.411Z",
          "iopub.status.idle": "2021-09-22T14:17:12.518Z",
          "shell.execute_reply": "2021-09-22T14:17:12.526Z"
        },
        "jupyter": {
          "outputs_hidden": false,
          "source_hidden": false
        },
        "nteract": {
          "transient": {
            "deleting": false
          }
        }
      }
    },
    {
      "cell_type": "markdown",
      "source": [
        "Fit of the BEP model to the reference data."
      ],
      "metadata": {}
    },
    {
      "cell_type": "code",
      "source": [
        "Er = data['Er'].values\n",
        "Ea = data['Ea'].values\n",
        "c0, c1 = np.polyfit(Er, Ea, 1)"
      ],
      "outputs": [],
      "execution_count": 3,
      "metadata": {
        "execution": {
          "iopub.execute_input": "2021-09-22T14:17:13.961Z",
          "iopub.status.busy": "2021-09-22T14:17:13.958Z",
          "iopub.status.idle": "2021-09-22T14:17:14.168Z",
          "shell.execute_reply": "2021-09-22T14:17:14.181Z"
        },
        "jupyter": {
          "outputs_hidden": false,
          "source_hidden": false
        },
        "nteract": {
          "transient": {
            "deleting": false
          }
        }
      }
    },
    {
      "cell_type": "markdown",
      "source": [
        "Visualization of the correlation of predicted transition-state energies compared to the reference energies."
      ],
      "metadata": {}
    },
    {
      "cell_type": "code",
      "source": [
        "line = np.poly1d([c0, c1])\n",
        "E_TS_predict = line(data['Er'].values) + data['Initial'].values\n",
        "fig, ax = plt.subplots(figsize=(6,6))\n",
        "ax.tick_params(labelsize=16)\n",
        "ax.set_xlim(0, 6)\n",
        "ax.set_ylim(0, 6)\n",
        "ax.set_xlabel(\"Reference $E_{\\mathrm{TS}}$ (eV)\", fontsize=16)\n",
        "ax.set_ylabel(\"BEP $E_{\\mathrm{TS}}$ (eV)\", fontsize=16)\n",
        "ax.scatter(data['E_TS'].values, E_TS_predict)\n",
        "ax.plot([0, 6], [0, 6], c='r')\n",
        "plt.show()"
      ],
      "outputs": [
        {
          "output_type": "display_data",
          "data": {
            "image/png": "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\n",
            "text/plain": "<Figure size 432x432 with 1 Axes>"
          },
          "metadata": {
            "needs_background": "light"
          }
        }
      ],
      "execution_count": 4,
      "metadata": {
        "execution": {
          "iopub.execute_input": "2021-09-22T14:17:11.313Z",
          "iopub.status.busy": "2021-09-22T14:17:11.305Z",
          "iopub.status.idle": "2021-09-22T14:17:11.340Z",
          "shell.execute_reply": "2021-09-22T14:17:11.346Z"
        },
        "jupyter": {
          "outputs_hidden": false,
          "source_hidden": false
        },
        "nteract": {
          "transient": {
            "deleting": false
          }
        }
      }
    },
    {
      "cell_type": "markdown",
      "source": [
        "Prediction of the transition-state energies for the four reactions over Pt/Mo<sub>2</sub>N(111) that are discussed in the main manuscript.  All energies are in eV."
      ],
      "metadata": {}
    },
    {
      "cell_type": "code",
      "source": [
        "df = pd.DataFrame(\n",
        "    columns=['Reaction', 'Initial', 'Final'],\n",
        "    data=[\n",
        "        ['I', 0.4797, 1.0981],\n",
        "        ['II', 0.0730, 0.8849],\n",
        "        ['III',  1.2030, 1.3648],\n",
        "        ['IV', 0.4587, 0.3731]\n",
        "    ]\n",
        ")\n",
        "\n",
        "df['Er'] = df['Final'] - df['Initial']\n",
        "df['Ea'] = c0 + c1*df['Er']\n",
        "df['E_TS'] = df['Initial'] + df['Ea']\n",
        "\n",
        "df.round(2)"
      ],
      "outputs": [
        {
          "output_type": "execute_result",
          "execution_count": 5,
          "data": {
            "text/html": "<div>\n<style scoped>\n    .dataframe tbody tr th:only-of-type {\n        vertical-align: middle;\n    }\n\n    .dataframe tbody tr th {\n        vertical-align: top;\n    }\n\n    .dataframe thead th {\n        text-align: right;\n    }\n</style>\n<table border=\"1\" class=\"dataframe\">\n  <thead>\n    <tr style=\"text-align: right;\">\n      <th></th>\n      <th>Reaction</th>\n      <th>Initial</th>\n      <th>Final</th>\n      <th>Er</th>\n      <th>Ea</th>\n      <th>E_TS</th>\n    </tr>\n  </thead>\n  <tbody>\n    <tr>\n      <th>0</th>\n      <td>I</td>\n      <td>0.48</td>\n      <td>1.10</td>\n      <td>0.62</td>\n      <td>1.36</td>\n      <td>1.84</td>\n    </tr>\n    <tr>\n      <th>1</th>\n      <td>II</td>\n      <td>0.07</td>\n      <td>0.88</td>\n      <td>0.81</td>\n      <td>1.61</td>\n      <td>1.69</td>\n    </tr>\n    <tr>\n      <th>2</th>\n      <td>III</td>\n      <td>1.20</td>\n      <td>1.36</td>\n      <td>0.16</td>\n      <td>0.77</td>\n      <td>1.97</td>\n    </tr>\n    <tr>\n      <th>3</th>\n      <td>IV</td>\n      <td>0.46</td>\n      <td>0.37</td>\n      <td>-0.09</td>\n      <td>0.45</td>\n      <td>0.91</td>\n    </tr>\n  </tbody>\n</table>\n</div>",
            "text/plain": "  Reaction  Initial  Final    Er    Ea  E_TS\n0        I     0.48   1.10  0.62  1.36  1.84\n1       II     0.07   0.88  0.81  1.61  1.69\n2      III     1.20   1.36  0.16  0.77  1.97\n3       IV     0.46   0.37 -0.09  0.45  0.91"
          },
          "metadata": {}
        }
      ],
      "execution_count": 5,
      "metadata": {}
    }
  ],
  "metadata": {
    "interpreter": {
      "hash": "fa97f1dcb59bb154421c5e93beb40b4fe97d9867222f7b6218b1f213b62f9917"
    },
    "kernel_info": {
      "name": "python3"
    },
    "kernelspec": {
      "display_name": "Python 3",
      "language": "python",
      "name": "python3"
    },
    "language_info": {
      "name": "python",
      "version": "3.8.8",
      "mimetype": "text/x-python",
      "codemirror_mode": {
        "name": "ipython",
        "version": 3
      },
      "pygments_lexer": "ipython3",
      "nbconvert_exporter": "python",
      "file_extension": ".py"
    },
    "nteract": {
      "version": "0.28.0"
    }
  },
  "nbformat": 4,
  "nbformat_minor": 1
}
